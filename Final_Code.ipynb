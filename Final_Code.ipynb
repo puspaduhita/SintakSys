!pip -V
!pip install docx2txt
!pip install tensorflow==2.4.0

from google.colab import drive
drive.mount('/content/drive')

