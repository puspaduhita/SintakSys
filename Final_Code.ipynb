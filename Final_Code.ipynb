!pip -V
!pip install docx2txt
!pip install tensorflow==2.4.0

from google.colab import drive
drive.mount('/content/drive')

# Library needed for building and deploying the model
import re
import os
import numpy as np
import docx2txt
import pickle
from tensorflow import keras
from tensorflow.keras.layers import Input, LSTM, Dense, Dropout
from tensorflow.keras import optimizers, metrics, backend as K
from tensorflow.keras.models import Sequential, Model
from tensorflow.python.keras.layers import deserialize, serialize
from tensorflow.python.keras.saving import saving_utils
